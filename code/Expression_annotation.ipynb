{
 "cells": [
  {
   "cell_type": "code",
   "execution_count": 1,
   "id": "mathematical-implementation",
   "metadata": {},
   "outputs": [],
   "source": [
    "import matplotlib.pyplot as plt\n",
    "import networkx as nx\n",
    "import time\n",
    "\n"
   ]
  },
  {
   "cell_type": "code",
   "execution_count": 2,
   "id": "cheap-thing",
   "metadata": {},
   "outputs": [],
   "source": [
    "file = open('/Users/Iva/Documents/project/data/Expression/normal_tissue.tsv')\n",
    "expression = []\n",
    "n = 0\n",
    "for i in file:\n",
    "    n+=1\n",
    "    a = i.split(\"\\t\")\n",
    "    expression.append(a)\n",
    "\n",
    "\n",
    "    "
   ]
  },
  {
   "cell_type": "code",
   "execution_count": 3,
   "id": "classified-findings",
   "metadata": {},
   "outputs": [
    {
     "name": "stdout",
     "output_type": "stream",
     "text": [
      "['retina', 'urinary bladder', 'sole of foot', 'nasopharynx', 'tonsil', 'caudate', 'testis', 'dorsal raphe', 'rectum', 'smooth muscle', 'parathyroid gland', 'cerebral cortex', 'hypothalamus', 'thymus', 'bone marrow', 'hair', 'choroid plexus', 'lactating breast', 'pituitary gland', 'liver', 'endometrium 1', 'lung', 'prostate', 'hippocampus', 'N/A', 'pancreas', 'breast', 'placenta', 'bronchus', 'endometrium 2', 'adipose tissue', 'cartilage', 'appendix', 'gallbladder', 'lymph node', 'cervix, uterine', 'cerebellum', 'oral mucosa', 'heart muscle', 'ovary', 'eye', 'vagina', 'spleen', 'skin 2', 'epididymis', 'seminal vesicle', 'colon', 'small intestine', 'soft tissue 2', 'kidney', 'Tissue', 'skin', 'salivary gland', 'soft tissue 1', 'stomach 1', 'stomach 2', 'adrenal gland', 'esophagus', 'fallopian tube', 'skeletal muscle', 'skin 1', 'substantia nigra', 'duodenum', 'thyroid gland']\n",
      "_______\n",
      "['cells in zona glomerulosa', 'cells in granular layer', 'basal cells', 'melanocytes', 'round or early spermatids', 'cells in endometrial stroma', 'cells in tubules', 'limiting membrane', 'lactating glandular cells', 'granular cells - cytoplasm/membrane', 'molecular layer cells - nucleus', 'cells in white pulp', 'secretory cells', 'cells in internal root sheath', 'neuropil', 'epidermal cells', 'cardiomyocytes', 'pigment epithelial cells', 'urothelial cells', 'cells in anterior ', 'collecting ducts', 'cells in posterior ', 'elongated or late spermatids', 'decidual cells', 'adipocytes', 'respiratory epithelial cells', 'goblet cells', 'molecular layer - neuropil', 'squamous epithelial cells', 'exocrine glandular cells', 'ovarian stroma cells', 'lens epithelial cells', 'ciliated cells (ciliary rootlets)', 'peritubular cells', 'medullary cells', 'Bergmann glia - nucleus', 'pachytene spermatocytes', 'cortical cells', 'endothelial cells', 'sertoli cells', 'synaptic glomeruli - capsule', 'neuronal projections', 'cells in glomeruli', 'proximal tubules (cell body)', 'preleptotene spermatocytes', 'sebaceous cells', 'Purkinje cells', 'GLUC cells - nucleus', 'cells in zona reticularis', 'Bergmann glia - cytoplasm/membrane', 'processes in molecular layer', 'cells in seminiferous ducts', 'syncytiotrophoblasts - microvilli', 'inner nuclear layer', 'processes in white matter', 'glandular cells', 'chondrocytes', 'peripheral nerve', 'glial cells', 'Langerhans', 'macrophages', 'cholangiocytes', 'ciliated cells (cell body)', 'ciliated cells (cilia axoneme)', 'GLUC cells - cytoplasm/membrane', 'granular cells - nucleus', 'synapses', 'Cell type', 'hofbauer cells', 'germinal center cells', 'proximal tubules (microvilli)', 'cells in cortex/medulla', 'molecular layer cells - cytoplasm/membrane', 'spermatogonia cells', 'keratinocytes', 'syncytiotrophoblasts - cell body', 'N/A', 'hematopoietic cells', 'cells in molecular layer', 'follicle cells', 'processes in granular layer', 'cells in zona fasciculata', 'trophoblastic cells', \"bowman's capsule\", 'cells in dentate nucleus', 'neuronal cells', 'white matter cells - cytoplasm/membrane', 'myocytes', 'Purkinje cells - dendrites', 'cells in external root sheath', 'lens fiber cells', 'distal tubules', 'white matter cells - nucleus', 'cytotrophoblasts', 'Leydig cells', 'corneal epithelial cells', 'peripheral nerve/ganglion', 'myoepithelial cells', 'ductal cells', 'non-germinal center cells', 'outer plexiform layer', 'ciliated cells (tip of cilia)', 'inner plexiform layer', 'cells in cuticle', 'cells in red pulp', 'alveolar cells', 'Purkinje cells - nucleus', 'smooth muscle cells', 'sweat ducts', 'nerve fiber layer', 'fibroblasts', 'hyaloid membrane', 'photoreceptor cells', 'hepatocytes', 'Purkinje cells - cytoplasm/membrane', 'ganglion cells ', 'pancreatic endocrine cells', 'non-ciliated cells', 'ependymal cells', 'lymphoid tissue', 'synaptic glomeruli - core']\n",
      "['ENSG00000123338', 'NCKAP1L', 'bone marrow', 'hematopoietic cells', 'Medium', 'Approved\\n']\n"
     ]
    }
   ],
   "source": [
    "#Gene,'Gene name', 'Tissue', 'Cell type', 'Level', 'Reliability\\n\n",
    "tissue = []\n",
    "celltype = []\n",
    "\n",
    "for i in expression:\n",
    "    tissue.append(i[2])\n",
    "    celltype.append(i[3])\n",
    "print (list(set(tissue)))\n",
    "print (\"_______\")\n",
    "print (list(set(celltype)))\n",
    "\n",
    "## defining cell/tissue types for diseases\n",
    "\n",
    "\n",
    "for i in expression:\n",
    "    if i[1] == \"NCKAP1L\" and (i[2] == \"bone marrow\"):\n",
    "        print (i)\n",
    "        \n",
    "\n"
   ]
  },
  {
   "cell_type": "code",
   "execution_count": 4,
   "id": "amended-allah",
   "metadata": {},
   "outputs": [],
   "source": [
    "### load working networks\n",
    "### we start with literature based-networks\n",
    "'''\n",
    "G_nf_literature_expression = nx.read_gml(\"/Users/Iva/Documents/project/data/random_walks/rw_literature/nf_rw_literature.gml\")\n",
    "G_alps_literature_expression = nx.read_gml(\"/Users/Iva/Documents/project/data/random_walks/rw_literature/alps_rw_literature.gml\")\n",
    "G_hem1_literature_expression = nx.read_gml(\"/Users/Iva/Documents/project/data/random_walks/rw_literature/hem1_rw_literature.gml\")\n",
    "G_wdr1_literature_expression = nx.read_gml(\"/Users/Iva/Documents/project/data/random_walks/rw_literature/wdr1_rw_literature.gml\")\n",
    "G_ttc7a_literature_expression = nx.read_gml(\"/Users/Iva/Documents/project/data/random_walks/rw_literature/ttc7a_rw_literature.gml\")\n",
    "\n",
    "G_hem1_literature_expression_extended = nx.read_gml(\"/Users/Iva/Documents/project/data/random_walks/rw_literature/hem1_rw_literature_extended.gml\")\n",
    "\n",
    "G_hem1_rw = nx.read_gml (\"/Users/Iva/Documents/project/data/HEM1_complete_story/hem1_rw_annotated.gml\")\n",
    "G_nf_rw = nx.read_gml(\"/Users/Iva/Documents/project/data/random_walks_networks/G_nf_rw.gml\")\n",
    "\n",
    "'''\n",
    "\n",
    "G_hem1_all_rw = nx.read_gml(\"/Users/Iva/Documents/project/data/random_walks_networks/G_hem1_all_rw.gml\")\n",
    "\n"
   ]
  },
  {
   "cell_type": "code",
   "execution_count": 5,
   "id": "convinced-disney",
   "metadata": {},
   "outputs": [],
   "source": [
    "### annotate according expression as attribute to nodes\n",
    "#['ENSG00000196712', 'NF1', 'skin 1', 'fibroblasts', 'High', 'Uncertain\\n']\n",
    "\n",
    "### we define our tissue as tissue where our protein is expressed at medium or high levels\n",
    "\n",
    "def find_tissue (expression_matrix, geneID):\n",
    "    tissue_types = []\n",
    "    cell_types = []\n",
    "    for i in expression_matrix:\n",
    "        if i[0] == geneID and (i[4] == 'Low' or i[4] == 'Medium' or i[4] == 'High'):\n",
    "            tissue_types.append(i[2])\n",
    "            cell_types.append(i[3])\n",
    "    return(list(set(tissue_types)), list(set(cell_types)))\n",
    "            \n",
    "\n",
    "nf_tissue_types, nf_cell_types = find_tissue(expression, 'ENSG00000196712')\n",
    "\n"
   ]
  },
  {
   "cell_type": "code",
   "execution_count": 5,
   "id": "sufficient-farmer",
   "metadata": {},
   "outputs": [
    {
     "name": "stdout",
     "output_type": "stream",
     "text": [
      "time 417.6451609134674\n"
     ]
    }
   ],
   "source": [
    "#ENSG00000196712', 'NF1', 'skin 1', 'fibroblasts', 'High', 'Uncertain\\n']\n",
    "#['ENSG00000196712', 'NF1', 'cerebellum', 'cells in granular layer', 'Medium', 'Uncertain\\n']\n",
    "\n",
    "#['ENSG00000123338', 'NCKAP1L', 'bone marrow', 'hematopoietic cells', 'Medium', 'Approved\\n']\n",
    "\n",
    "#['ENSG00000071127', 'WDR1', 'colon', 'glandular cells', 'High', 'Approved\\n']\n",
    "#['ENSG00000071127', 'WDR1', 'lymph node', 'non-germinal center cells', 'Medium', 'Approved\\n']\n",
    "#['ENSG00000071127', 'WDR1', 'bone marrow', 'hematopoietic cells', 'Low', 'Approved\\n']\n",
    "\n",
    "def annotate_expression (network, expression_matrix, tissue_types, cell_types):\n",
    "    t0 = time.time()\n",
    "    for i in list(network.nodes()):\n",
    "        expression = []\n",
    "        \n",
    "        for j in expression_matrix:\n",
    "            if j[1] == network.nodes()[i][\"symbol\"]:\n",
    "                if (j[2] not in tissue_types) and (j[3] not in cell_types):\n",
    "                    continue\n",
    "                if (j[2] in tissue_types) and (j[3] in cell_types):\n",
    "                    expression.append(j[4]) \n",
    "        \n",
    "        network.nodes()[i][\"expression\"] = str(expression)[2: (len(str(expression))-2)]\n",
    "    print (\"time\", float(time.time()-t0))\n",
    "    return (network)\n",
    "    \n",
    "#G_nf = annotate_expression(G_nf_literature_expression, expression, ['skin 1'], ['fibroblasts'])\n",
    "#G_nf_cerebellum = annotate_expression(G_nf_literature_expression, expression, ['cerebellum'], ['cells in granular layer'])\n",
    "#G_hem1_bone_marrow = annotate_expression(G_hem1_literature_expression, expression, ['bone marrow'], ['hematopoietic cells'])\n",
    "#G_ttc7a_colon_glanular = annotate_expression(G_ttc7a_literature_expression, expression, ['colon'], ['glandular cells'])\n",
    "#G_ttc7a_bone_marrow = annotate_expression(G_ttc7a_literature_expression, expression, ['bone marrow'], ['hematopoietic cells'])\n",
    "#G_wdr1_bone_marrow = annotate_expression(G_wdr1_literature_expression, expression, ['colon'], ['glandular cells'])\n",
    "#G_wdr1_lymph_node = annotate_expression(G_wdr1_literature_expression, expression, ['lymph node'], ['non-germinal center cells'])\n",
    "#G_hem1_bone_marrow_extended = annotate_expression(G_hem1_literature_expression_extended, expression, ['bone marrow'], ['hematopoietic cells'])\n",
    "#G_hem1_rw = annotate_expression(G_hem1_rw, expression, ['bone marrow'], ['hematopoietic cells'])\n",
    "#G_nf_rw_expression = annotate_expression(G_nf_rw, expression, ['skin 1'], ['fibroblasts'])\n",
    "\n",
    "\n",
    "G_hem1_all_rw = annotate_expression(G_hem1_all_rw, expression, ['bone marrow'], ['hematopoietic cells'])\n"
   ]
  },
  {
   "cell_type": "code",
   "execution_count": 122,
   "id": "floppy-nicaragua",
   "metadata": {},
   "outputs": [
    {
     "name": "stdout",
     "output_type": "stream",
     "text": [
      "['ENSG00000213281', 'NRAS', 'skin 1', 'fibroblasts', 'Not detected', 'Uncertain\\n']\n",
      "['ENSG00000213281', 'NRAS', 'skin 1', 'keratinocytes', 'Not detected', 'Uncertain\\n']\n",
      "['ENSG00000213281', 'NRAS', 'skin 1', 'Langerhans', 'Not detected', 'Uncertain\\n']\n",
      "['ENSG00000213281', 'NRAS', 'skin 1', 'melanocytes', 'Low', 'Uncertain\\n']\n",
      "['ENSG00000213281', 'NRAS', 'skin 2', 'epidermal cells', 'Low', 'Uncertain\\n']\n"
     ]
    },
    {
     "data": {
      "text/plain": [
       "{'pathway': 'REACTOME_ONCOGENIC_MAPK_SIGNALING,KEGG_MAPK_SIGNALING_PATHWAY,REACTOME_MAPK_FAMILY_SIGNALING_CASCADES,REACTOME_FLT3_SIGNALING,REACTOME_RAS_SIGNALING_DOWNSTREAM_OF_NF1_LOSS_OF_FUNCTION_VARIANTS,WP_RAS_SIGNALING,WP_SIGNALING_PATHWAYS_IN_GLIOBLASTOMA,WP_MAPK_SIGNALING_PATHWAY,REACTOME_CYTOKINE_SIGNALING_IN_IMMUNE_SYSTEM,WP_SYNAPTIC_SIGNALING_PATHWAYS_ASSOCIATED_WITH_AUTISM_SPECTRUM_DISORDER',\n",
       " 'symbol': 'NF1',\n",
       " 'in_literature': 'red',\n",
       " 'expression': 'High'}"
      ]
     },
     "execution_count": 122,
     "metadata": {},
     "output_type": "execute_result"
    }
   ],
   "source": [
    "for i in expression:\n",
    "    if i[1] == \"NRAS\" and (i[2] == \"skin 1\" or i[2] == \"skin 2\"):\n",
    "        print (i)\n",
    "        \n",
    "G_nf.nodes()[\"4763\"]"
   ]
  },
  {
   "cell_type": "code",
   "execution_count": 14,
   "id": "speaking-honey",
   "metadata": {},
   "outputs": [],
   "source": [
    "### save annotated networks\n",
    "\n",
    "#nx.write_gml (G_nf,\"/Users/Iva/Documents/project/data/Expression/G_nf_expression_fibroblasts.gml\")\n",
    "#nx.write_gml (G_nf_cerebellum,\"/Users/Iva/Documents/project/data/Expression/G_nf_expression_cerebellum.gml\")\n",
    "#nx.write_gml (G_hem1_bone_marrow,\"/Users/Iva/Documents/project/data/Expression/G_hem1_expression_bone_marrow.gml\")\n",
    "#nx.write_gml (G_ttc7a_colon_glanular,\"/Users/Iva/Documents/project/data/Expression/G_ttc7a_expression_colon_glandular_cells.gml\")\n",
    "#nx.write_gml (G_ttc7a_bone_marrow,\"/Users/Iva/Documents/project/data/Expression/G_ttc7a_expression_bone_marrow.gml\")\n",
    "#nx.write_gml (G_wdr1_bone_marrow,\"/Users/Iva/Documents/project/data/Expression/G_wdr1_expression_colon_glandular_cells.gml\")\n",
    "#nx.write_gml (G_wdr1_lymph_node,\"/Users/Iva/Documents/project/data/Expression/G_wdr1_expression_lymph_node.gml\")\n",
    "#nx.write_gml (G_hem1_bone_marrow_extended,\"/Users/Iva/Documents/project/data/Expression/G_hem1_expression_bone_marrow_extended.gml\")\n",
    "#nx.write_gml (G_hem1_rw,\"/Users/Iva/Documents/project/data/HEM1_complete_story/hem1_rw_annotated.gml\")\n",
    "#nx.write_gml (G_nf_rw_expression,\"/Users/Iva/Documents/project/data/HEM1_complete_story/G_nf_rw_annotated.gml\")\n",
    "\n",
    "nx.write_gml (G_hem1_all_rw,\"/Users/Iva/Documents/project/data/HEM1_complete_story/networks/G_hem1_literature_all_rw.gml\")\n"
   ]
  },
  {
   "cell_type": "code",
   "execution_count": 15,
   "id": "herbal-aquarium",
   "metadata": {},
   "outputs": [],
   "source": [
    "\n",
    "def remove_ne (network): ## remove nodes that are not expressed\n",
    "    lista = []\n",
    "    for i in list(network.nodes()):\n",
    "        if network.nodes()[i][\"expression\"] == \"Not detected\":\n",
    "            continue\n",
    "        else:\n",
    "            lista.append(i)\n",
    "    return( nx.subgraph(network, lista))\n",
    "        \n",
    "\n",
    "\n",
    "#nx.write_gml (remove_ne(G_hem1_bone_marrow),\"/Users/Iva/Documents/project/data/Expression/G_hem1_bone_marrow_clean.gml\")\n",
    "\n",
    "#nx.write_gml (remove_ne(G_hem1_bone_marrow_extended),\"/Users/Iva/Documents/project/data/Expression/G_hem1_bone_marrow_extended_clean.gml\")\n",
    "\n",
    "nx.write_gml (remove_ne(G_hem1_all_rw),\"/Users/Iva/Documents/project/data/HEM1_complete_story/networks/G_hem1_literature_all_rw_clean.gml\")\n",
    "\n",
    "\n",
    "#G_hem1_bone_marrow_extended_clean = remove_ne(G_hem1_bone_marrow_extended)\n"
   ]
  },
  {
   "cell_type": "code",
   "execution_count": 33,
   "id": "unlimited-orlando",
   "metadata": {},
   "outputs": [],
   "source": [
    "### ADD COLORING TO NODES IN THE NETWORK\n",
    "\n",
    "def color_nodes (network, listofnodes, color, property_name):    \n",
    "    for i in listofnodes:\n",
    "        if (i in list(network.nodes())):  \n",
    "            network.nodes()[i][property_name] = color\n",
    "\n",
    "    return (network)\n",
    "\n",
    "G_hem1_bone_marrow_extended_clean = color_nodes(G_hem1_bone_marrow_extended_clean,['3071', '207', '10006' ,'8936', '60', '253260','2475','79109','64223'], \"yes\", \"literature\")\n",
    "G_hem1_bone_marrow_extended_clean = color_nodes(G_hem1_bone_marrow_extended_clean,['3071','10006' ,'8936',  '51571'], \"yes\", \"Wave\")\n",
    "G_hem1_bone_marrow_extended_clean = color_nodes(G_hem1_bone_marrow_extended_clean,['253260','2475','79109','64223'], \"yes\", \"mTOR\")\n",
    "\n",
    "\n",
    "\n"
   ]
  },
  {
   "cell_type": "code",
   "execution_count": 34,
   "id": "comfortable-horse",
   "metadata": {},
   "outputs": [],
   "source": [
    "### ADD COLORING TO EDGES IN THE NETWORK - input list of nods\n",
    "\n",
    "def color_edges (network, listofnodes, color):    \n",
    "    #make list of edges\n",
    "    listofedges = []\n",
    "    for i in range(len(listofnodes)):\n",
    "            for j in range(len(listofnodes)):\n",
    "                if i > j:\n",
    "                    if (i == '4763' and j == '3265') or (j == '4763' and i == '3265'):\n",
    "                        print (\"da\")\n",
    "                    listofedges.append((listofnodes[i], listofnodes[j]))\n",
    "\n",
    "\n",
    "    for i in listofedges:\n",
    "        if (i in list(network.edges())): \n",
    "            network.edges()[i][\"literature\"] = color\n",
    "        reverse = (i[1], i[0])\n",
    "\n",
    "        if (reverse in list(network.edges())): \n",
    "            network.edges()[i][\"literature\"] = color\n",
    "\n",
    "    return (network)\n",
    "\n",
    "\n",
    "G_hem1_bone_marrow_extended_clean = color_edges(G_hem1_bone_marrow_extended_clean,['3071', '207', '10006' ,'8936', '60', '253260','2475','79109','64223'], \"red\")\n",
    "\n",
    "\n"
   ]
  },
  {
   "cell_type": "code",
   "execution_count": 35,
   "id": "secure-server",
   "metadata": {},
   "outputs": [],
   "source": [
    "nx.write_gml (G_hem1_bone_marrow_extended_clean,\"/Users/Iva/Documents/project/data/Expression/G_hem1_expression_bone_marrow_extended_clean_2.gml\")\n",
    "\n"
   ]
  },
  {
   "cell_type": "code",
   "execution_count": 38,
   "id": "laughing-manor",
   "metadata": {},
   "outputs": [
    {
     "name": "stdout",
     "output_type": "stream",
     "text": [
      "['4851', '3091', '2475']\n"
     ]
    }
   ],
   "source": [
    "print (nx.shortest_path(G_hem1_bone_marrow_extended_clean, source = '4851',target='2475'))"
   ]
  }
 ],
 "metadata": {
  "kernelspec": {
   "display_name": "Python 3",
   "language": "python",
   "name": "python3"
  },
  "language_info": {
   "codemirror_mode": {
    "name": "ipython",
    "version": 3
   },
   "file_extension": ".py",
   "mimetype": "text/x-python",
   "name": "python",
   "nbconvert_exporter": "python",
   "pygments_lexer": "ipython3",
   "version": "3.8.0"
  }
 },
 "nbformat": 4,
 "nbformat_minor": 5
}
